{
 "cells": [
  {
   "cell_type": "markdown",
   "metadata": {},
   "source": [
    "### Sorting algorithm, Divide and conquer, Merge sort, Quick sort"
   ]
  },
  {
   "cell_type": "markdown",
   "metadata": {},
   "source": [
    "#### Bubble sort"
   ]
  },
  {
   "cell_type": "code",
   "execution_count": 23,
   "metadata": {},
   "outputs": [],
   "source": [
    "def bubble_sort(nums):\n",
    "    #create copy of list\n",
    "    nums = list(nums)\n",
    "    \n",
    "    #repeat the process n-1 times\n",
    "    for i in range(len(nums) - 1):\n",
    "        #iterate over the array\n",
    "        for j in range(len(nums) - 1):\n",
    "            \n",
    "            #compare the elements\n",
    "            if nums[j] > nums[j + 1]:\n",
    "                \n",
    "                #swap the elements\n",
    "                nums[j], nums[j+1] = nums[j+1], nums[j]\n",
    "                \n",
    "    #return the sorted list\n",
    "    return nums"
   ]
  },
  {
   "cell_type": "code",
   "execution_count": 24,
   "metadata": {},
   "outputs": [],
   "source": [
    "test0 = {\n",
    "    'input':{\n",
    "        'nums': [4, 2, 6, 3, 4, 6, 2, 1]\n",
    "    },\n",
    "    'output': [1, 2, 2, 3, 4, 4, 6, 6]\n",
    "}"
   ]
  },
  {
   "cell_type": "code",
   "execution_count": 25,
   "metadata": {},
   "outputs": [
    {
     "name": "stdout",
     "output_type": "stream",
     "text": [
      "Input:  [4, 2, 6, 3, 4, 6, 2, 1]\n",
      "Expected Output:  [1, 2, 2, 3, 4, 4, 6, 6]\n",
      "Actual output:  [1, 2, 2, 3, 4, 4, 6, 6]\n",
      "Match:  True\n"
     ]
    }
   ],
   "source": [
    "num0, output0 = test0['input']['nums'], test0['output']\n",
    "\n",
    "print('Input: ', num0)\n",
    "print('Expected Output: ',output0)\n",
    "\n",
    "result0 = bubble_sort(num0)\n",
    "\n",
    "print('Actual output: ',result0)\n",
    "print('Match: ', result0 == output0)"
   ]
  },
  {
   "cell_type": "markdown",
   "metadata": {},
   "source": [
    "#### Insertion sort"
   ]
  },
  {
   "cell_type": "code",
   "execution_count": 26,
   "metadata": {},
   "outputs": [],
   "source": [
    "def insertion_sort(nums):\n",
    "    nums = list(nums)\n",
    "    for i in range(len(nums)):\n",
    "        cur = nums.pop(i)\n",
    "        j = i - 1\n",
    "        while j >= 0 and nums[j] > cur:\n",
    "            j -= 1\n",
    "        nums.insert(j + 1, cur)\n",
    "    return nums"
   ]
  },
  {
   "cell_type": "code",
   "execution_count": 27,
   "metadata": {},
   "outputs": [
    {
     "name": "stdout",
     "output_type": "stream",
     "text": [
      "Input:  [4, 2, 6, 3, 4, 6, 2, 1]\n",
      "Expected Output:  [1, 2, 2, 3, 4, 4, 6, 6]\n",
      "Actual output:  [1, 2, 2, 3, 4, 4, 6, 6]\n",
      "Match:  True\n"
     ]
    }
   ],
   "source": [
    "num0, output0 = test0['input']['nums'], test0['output']\n",
    "\n",
    "print('Input: ', num0)\n",
    "print('Expected Output: ',output0)\n",
    "\n",
    "result0 = insertion_sort(num0)\n",
    "\n",
    "print('Actual output: ',result0)\n",
    "print('Match: ', result0 == output0)"
   ]
  },
  {
   "cell_type": "markdown",
   "metadata": {},
   "source": [
    "#### Merge sort"
   ]
  },
  {
   "cell_type": "code",
   "execution_count": 31,
   "metadata": {},
   "outputs": [],
   "source": [
    "x = [1, 3, 5 ,12 , 5, 1]\n",
    "mid = 3"
   ]
  },
  {
   "cell_type": "code",
   "execution_count": 36,
   "metadata": {},
   "outputs": [
    {
     "data": {
      "text/plain": [
       "([1, 3, 5], [12, 5, 1], 1, [1, 5, 12, 5, 3, 1], 12)"
      ]
     },
     "execution_count": 36,
     "metadata": {},
     "output_type": "execute_result"
    }
   ],
   "source": [
    "x[:mid], x[mid:], x[-1], x[::-1], x[-3]"
   ]
  },
  {
   "cell_type": "code",
   "execution_count": 50,
   "metadata": {},
   "outputs": [],
   "source": [
    "def merge_sort(nums):\n",
    "    if len(nums) <= 1:\n",
    "        return nums\n",
    "    \n",
    "    mid = len(nums) // 2\n",
    "    \n",
    "    #split the list in two parts\n",
    "    left = nums[:mid]\n",
    "    right = nums[mid:]\n",
    "    \n",
    "    #solve the problem for each half recurssively\n",
    "    left_sorted, right_sorted = merge_sort(left), merge_sort(right)\n",
    "    \n",
    "    #combine the results of two halves\n",
    "    sorted_nums = merge(left_sorted, right_sorted)\n",
    "    \n",
    "    return sorted_nums"
   ]
  },
  {
   "cell_type": "code",
   "execution_count": 55,
   "metadata": {},
   "outputs": [],
   "source": [
    "def merge(nums1, nums2):\n",
    "    merged = []\n",
    "    \n",
    "    #indices for itration\n",
    "    i, j = 0, 0\n",
    "    \n",
    "    while i < len(nums1) and j < len(nums2):\n",
    "        \n",
    "        #include small element in result and move to next element\n",
    "        if nums1[i] <= nums2[j]:\n",
    "            merged.append(nums1[i])\n",
    "            i += 1\n",
    "        else:\n",
    "            merged.append(nums2[j])\n",
    "            j += 1\n",
    "            \n",
    "    #get the remaining elements\n",
    "    nums1_tail = nums1[i:]\n",
    "    nums2_tail = nums2[j:]\n",
    "        \n",
    "    #return final merged array\n",
    "    return merged + nums1_tail + nums2_tail"
   ]
  },
  {
   "cell_type": "code",
   "execution_count": 56,
   "metadata": {},
   "outputs": [
    {
     "data": {
      "text/plain": [
       "[-1, 0, 1, 2, 3, 4, 7, 8, 9, 11, 12]"
      ]
     },
     "execution_count": 56,
     "metadata": {},
     "output_type": "execute_result"
    }
   ],
   "source": [
    "merge([1, 4, 7, 9, 11], [-1, 0, 2, 3, 8, 12])"
   ]
  },
  {
   "cell_type": "code",
   "execution_count": 57,
   "metadata": {},
   "outputs": [
    {
     "name": "stdout",
     "output_type": "stream",
     "text": [
      "Input:  [4, 2, 6, 3, 4, 6, 2, 1]\n",
      "Expected Output:  [1, 2, 2, 3, 4, 4, 6, 6]\n",
      "Actual output:  [1, 2, 2, 3, 4, 4, 6, 6]\n",
      "Match:  True\n"
     ]
    }
   ],
   "source": [
    "num0, output0 = test0['input']['nums'], test0['output']\n",
    "\n",
    "print('Input: ', num0)\n",
    "print('Expected Output: ',output0)\n",
    "\n",
    "result0 = merge_sort(num0)\n",
    "\n",
    "print('Actual output: ',result0)\n",
    "print('Match: ', result0 == output0)"
   ]
  },
  {
   "cell_type": "markdown",
   "metadata": {},
   "source": [
    "#### Quick sort"
   ]
  },
  {
   "cell_type": "code",
   "execution_count": 61,
   "metadata": {},
   "outputs": [],
   "source": [
    "def quick_sort(num, start=0, end=None):\n",
    "    if end is None:\n",
    "        nums = list(nums)\n",
    "        end = len(nums) - 1\n",
    "        \n",
    "    if start < end:\n",
    "        pivot = partition(nums, start, end)\n",
    "        quick_sort(nums, start, pivot - 1)\n",
    "        quick_sort(nums, pivot + 1, end)\n",
    "    \n",
    "    return end"
   ]
  },
  {
   "cell_type": "code",
   "execution_count": 68,
   "metadata": {},
   "outputs": [],
   "source": [
    "def partition(nums, start=0, end=None):\n",
    "    if end is None:\n",
    "        end = len(nums) - 1\n",
    "    \n",
    "    #initialize left and right position\n",
    "    l, r = start, end-1\n",
    "    \n",
    "    #iterate while they are apart\n",
    "    while r > l:\n",
    "        \n",
    "        #increment left pointer if number is less or equal to pivot\n",
    "        if nums[l] <= nums[end]:\n",
    "            l += 1\n",
    "            \n",
    "        #decrement right pointer if number is greater than pivot\n",
    "        elif nums[r] > nums[end]:\n",
    "            r -= 1\n",
    "            \n",
    "        #two out-of-place elements found, swap them\n",
    "        else:\n",
    "            nums[l], nums[r] = nums[r], nums[l]\n",
    "            \n",
    "    if nums[l] > nums[end]:\n",
    "        nums[l], nums[end] = nums[end], nums[l]\n",
    "        return l\n",
    "    else:\n",
    "        return end     "
   ]
  },
  {
   "cell_type": "code",
   "execution_count": 69,
   "metadata": {},
   "outputs": [
    {
     "name": "stdout",
     "output_type": "stream",
     "text": [
      "[1, 0, 2, 3, 5, 11, 6] \tPivot element:  3\n"
     ]
    }
   ],
   "source": [
    "l1 = [1, 5, 6, 2, 0, 11, 3]\n",
    "pivot = partition(l1)\n",
    "print(l1, '\\tPivot element: ',pivot)"
   ]
  },
  {
   "cell_type": "code",
   "execution_count": null,
   "metadata": {},
   "outputs": [],
   "source": []
  },
  {
   "cell_type": "code",
   "execution_count": null,
   "metadata": {},
   "outputs": [],
   "source": []
  },
  {
   "cell_type": "markdown",
   "metadata": {},
   "source": [
    "### Custom coparison function"
   ]
  },
  {
   "cell_type": "markdown",
   "metadata": {},
   "source": [
    "**Question1:** You're working on new feature on XYZ called \"Top notebooks of the week\". write a function to sort a list of notebooks in decresing order of likes. keep in mind that up to millions of notebooks can be created every week, so your function needs to be as efficient as possible. "
   ]
  },
  {
   "cell_type": "markdown",
   "metadata": {},
   "source": [
    "let's create a class that captures basic information about notebooks."
   ]
  },
  {
   "cell_type": "code",
   "execution_count": 84,
   "metadata": {},
   "outputs": [],
   "source": [
    "class Notebook:\n",
    "    def __init__(self, title, username, likes):\n",
    "        self.title, self.username, self.likes = title, username, likes\n",
    "    \n",
    "    def __repr__(self):\n",
    "        return 'Notebook <\"{}/{}\", {} likes>'.format(self.username, self.title, self.likes)"
   ]
  },
  {
   "cell_type": "code",
   "execution_count": 85,
   "metadata": {},
   "outputs": [],
   "source": [
    "nb0 = Notebook('Pytorch-basics', 'akashns', 373)\n",
    "nb1 = Notebook('Linear-regression', 'sid', 532)\n",
    "nb2 = Notebook('Logistic-regression', 'vikas', 31)\n",
    "nb3 = Notebook('feedforward-nn', 'sonali', 94)\n",
    "nb4 = Notebook('cifari10-cnn', 'baban', 2)\n",
    "nb5 = Notebook('cifari10-resnet', 'tanya', 29)\n",
    "nb6 = Notebook('anime-gans', 'harsh', 80)\n",
    "nb7 = Notebook('Python-fundamentals', 'vishal', 136)\n",
    "nb8 = Notebook('Python-functions', 'akashns', 74)\n",
    "nb9 = Notebook('Python-numpy', 'sid', 92)"
   ]
  },
  {
   "cell_type": "code",
   "execution_count": 86,
   "metadata": {},
   "outputs": [],
   "source": [
    "notebooks = [nb0, nb1, nb2, nb3, nb4, nb5, nb6, nb7, nb8, nb9]"
   ]
  },
  {
   "cell_type": "code",
   "execution_count": 87,
   "metadata": {},
   "outputs": [
    {
     "data": {
      "text/plain": [
       "[Notebook <\"akashns/Pytorch-basics\", 373 likes>,\n",
       " Notebook <\"sid/Linear-regression\", 532 likes>,\n",
       " Notebook <\"vikas/Logistic-regression\", 31 likes>,\n",
       " Notebook <\"sonali/feedforward-nn\", 94 likes>,\n",
       " Notebook <\"baban/cifari10-cnn\", 2 likes>,\n",
       " Notebook <\"tanya/cifari10-resnet\", 29 likes>,\n",
       " Notebook <\"harsh/anime-gans\", 80 likes>,\n",
       " Notebook <\"vishal/Python-fundamentals\", 136 likes>,\n",
       " Notebook <\"akashns/Python-functions\", 74 likes>,\n",
       " Notebook <\"sid/Python-numpy\", 92 likes>]"
      ]
     },
     "execution_count": 87,
     "metadata": {},
     "output_type": "execute_result"
    }
   ],
   "source": [
    "notebooks"
   ]
  },
  {
   "cell_type": "code",
   "execution_count": 97,
   "metadata": {},
   "outputs": [],
   "source": [
    "def compare_likes(nb1, nb2):\n",
    "    if nb1.likes > nb2.likes:\n",
    "        return 'lesser'\n",
    "    elif nb1.likes == nb2.likes:\n",
    "        return 'equal'\n",
    "    elif nb1.likes < nb2.likes:\n",
    "        return 'greater'"
   ]
  },
  {
   "cell_type": "code",
   "execution_count": 98,
   "metadata": {},
   "outputs": [],
   "source": [
    "def default_compare(x, y):\n",
    "    if x < y:\n",
    "        return 'lesser'\n",
    "    elif x == y:\n",
    "        return 'equal'\n",
    "    else:\n",
    "        return 'greater'\n",
    "    \n",
    "def merge_sort(objs, compare = default_compare):\n",
    "    if len(objs) < 2:\n",
    "        return objs\n",
    "    mid = len(objs) // 2\n",
    "    return merge(merge_sort(objs[:mid], compare),\n",
    "                merge_sort(objs[mid:], compare),\n",
    "                compare)\n",
    "\n",
    "def merge(left, right, compare):\n",
    "    i, j, merged = 0, 0, []\n",
    "    while i < len(left) and j < len(right):\n",
    "        result = compare(left[i], right[j])\n",
    "        if result == 'lesser' or result == 'equal':\n",
    "            merged.append(left[i])\n",
    "            i += 1\n",
    "        else:\n",
    "            merged.append(right[j])\n",
    "            j += 1\n",
    "    return merged + left[i:] + right[j:]"
   ]
  },
  {
   "cell_type": "code",
   "execution_count": 99,
   "metadata": {},
   "outputs": [],
   "source": [
    "sorted_notebooks = merge_sort(notebooks, compare_likes)"
   ]
  },
  {
   "cell_type": "code",
   "execution_count": 100,
   "metadata": {},
   "outputs": [
    {
     "data": {
      "text/plain": [
       "[Notebook <\"sid/Linear-regression\", 532 likes>,\n",
       " Notebook <\"akashns/Pytorch-basics\", 373 likes>,\n",
       " Notebook <\"vishal/Python-fundamentals\", 136 likes>,\n",
       " Notebook <\"sonali/feedforward-nn\", 94 likes>,\n",
       " Notebook <\"sid/Python-numpy\", 92 likes>,\n",
       " Notebook <\"harsh/anime-gans\", 80 likes>,\n",
       " Notebook <\"akashns/Python-functions\", 74 likes>,\n",
       " Notebook <\"vikas/Logistic-regression\", 31 likes>,\n",
       " Notebook <\"tanya/cifari10-resnet\", 29 likes>,\n",
       " Notebook <\"baban/cifari10-cnn\", 2 likes>]"
      ]
     },
     "execution_count": 100,
     "metadata": {},
     "output_type": "execute_result"
    }
   ],
   "source": [
    "sorted_notebooks"
   ]
  },
  {
   "cell_type": "code",
   "execution_count": 101,
   "metadata": {},
   "outputs": [],
   "source": [
    "def compare_titles(nb1, nb2):\n",
    "    if nb1.title < nb2.title:\n",
    "        return 'lesser'\n",
    "    elif nb1.title == nb2.title:\n",
    "        return 'equal'\n",
    "    elif nb1.title > nb2.title:\n",
    "        return 'greater'"
   ]
  },
  {
   "cell_type": "code",
   "execution_count": 102,
   "metadata": {},
   "outputs": [
    {
     "data": {
      "text/plain": [
       "[Notebook <\"sid/Linear-regression\", 532 likes>,\n",
       " Notebook <\"vikas/Logistic-regression\", 31 likes>,\n",
       " Notebook <\"akashns/Python-functions\", 74 likes>,\n",
       " Notebook <\"vishal/Python-fundamentals\", 136 likes>,\n",
       " Notebook <\"sid/Python-numpy\", 92 likes>,\n",
       " Notebook <\"akashns/Pytorch-basics\", 373 likes>,\n",
       " Notebook <\"harsh/anime-gans\", 80 likes>,\n",
       " Notebook <\"baban/cifari10-cnn\", 2 likes>,\n",
       " Notebook <\"tanya/cifari10-resnet\", 29 likes>,\n",
       " Notebook <\"sonali/feedforward-nn\", 94 likes>]"
      ]
     },
     "execution_count": 102,
     "metadata": {},
     "output_type": "execute_result"
    }
   ],
   "source": [
    "merge_sort(notebooks, compare_titles)"
   ]
  },
  {
   "cell_type": "code",
   "execution_count": null,
   "metadata": {},
   "outputs": [],
   "source": []
  }
 ],
 "metadata": {
  "kernelspec": {
   "display_name": "Python 3",
   "language": "python",
   "name": "python3"
  },
  "language_info": {
   "codemirror_mode": {
    "name": "ipython",
    "version": 3
   },
   "file_extension": ".py",
   "mimetype": "text/x-python",
   "name": "python",
   "nbconvert_exporter": "python",
   "pygments_lexer": "ipython3",
   "version": "3.7.6"
  }
 },
 "nbformat": 4,
 "nbformat_minor": 4
}
